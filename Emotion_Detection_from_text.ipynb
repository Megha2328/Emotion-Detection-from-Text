{
 "cells": [
  {
   "cell_type": "code",
   "execution_count": 1,
   "id": "76bc62dd-b7b8-4597-96f7-2ac89410c35e",
   "metadata": {},
   "outputs": [],
   "source": [
    "# Importing Libraries\n",
    "import pandas as pd\n",
    "import numpy as np\n",
    "import seaborn as sns\n",
    "import matplotlib.pyplot as plt\n",
    "import nltk\n",
    "import string\n",
    "import re"
   ]
  },
  {
   "cell_type": "code",
   "execution_count": 2,
   "id": "05c6a40f-65ae-4cdc-80dc-37e75fd93c25",
   "metadata": {},
   "outputs": [],
   "source": [
    "# nltk:\n",
    "# Uses: 1. Tokenization: splitting text into words\n",
    "# 2. Stopword removal: removing words like is, the, and\n",
    "# 3. Stemming and Lemmatization: Reducing the words into their root form\n",
    "# 4. Part-of-speech tagging: nouns, verbs, adjectives\n",
    "# 5. Named Entity Recognition: Identifying names, places, dates"
   ]
  },
  {
   "cell_type": "code",
   "execution_count": 3,
   "id": "ee3d3492-71ee-4b6d-8965-98bceb9d3360",
   "metadata": {},
   "outputs": [],
   "source": [
    "# re\n",
    "# Uses: 1. Find patterns in data\n",
    "# 2. Replace substring using regex\n",
    "# 3. Validate inputs (emails, phone, numbers)\n",
    "# 4. Split text based on patterns"
   ]
  },
  {
   "cell_type": "code",
   "execution_count": 4,
   "id": "0573e481-02b9-4a0b-9956-14294c4d13f5",
   "metadata": {},
   "outputs": [
    {
     "data": {
      "text/html": [
       "<div>\n",
       "<style scoped>\n",
       "    .dataframe tbody tr th:only-of-type {\n",
       "        vertical-align: middle;\n",
       "    }\n",
       "\n",
       "    .dataframe tbody tr th {\n",
       "        vertical-align: top;\n",
       "    }\n",
       "\n",
       "    .dataframe thead th {\n",
       "        text-align: right;\n",
       "    }\n",
       "</style>\n",
       "<table border=\"1\" class=\"dataframe\">\n",
       "  <thead>\n",
       "    <tr style=\"text-align: right;\">\n",
       "      <th></th>\n",
       "      <th>content</th>\n",
       "      <th>sentiment</th>\n",
       "    </tr>\n",
       "  </thead>\n",
       "  <tbody>\n",
       "    <tr>\n",
       "      <th>0</th>\n",
       "      <td>i didnt feel humiliated</td>\n",
       "      <td>sadness</td>\n",
       "    </tr>\n",
       "    <tr>\n",
       "      <th>1</th>\n",
       "      <td>i can go from feeling so hopeless to so damned...</td>\n",
       "      <td>sadness</td>\n",
       "    </tr>\n",
       "    <tr>\n",
       "      <th>2</th>\n",
       "      <td>im grabbing a minute to post i feel greedy wrong</td>\n",
       "      <td>anger</td>\n",
       "    </tr>\n",
       "    <tr>\n",
       "      <th>3</th>\n",
       "      <td>i am ever feeling nostalgic about the fireplac...</td>\n",
       "      <td>love</td>\n",
       "    </tr>\n",
       "    <tr>\n",
       "      <th>4</th>\n",
       "      <td>i am feeling grouchy</td>\n",
       "      <td>anger</td>\n",
       "    </tr>\n",
       "    <tr>\n",
       "      <th>...</th>\n",
       "      <td>...</td>\n",
       "      <td>...</td>\n",
       "    </tr>\n",
       "    <tr>\n",
       "      <th>19995</th>\n",
       "      <td>im having ssa examination tomorrow in the morn...</td>\n",
       "      <td>sadness</td>\n",
       "    </tr>\n",
       "    <tr>\n",
       "      <th>19996</th>\n",
       "      <td>i constantly worry about their fight against n...</td>\n",
       "      <td>joy</td>\n",
       "    </tr>\n",
       "    <tr>\n",
       "      <th>19997</th>\n",
       "      <td>i feel its important to share this info for th...</td>\n",
       "      <td>joy</td>\n",
       "    </tr>\n",
       "    <tr>\n",
       "      <th>19998</th>\n",
       "      <td>i truly feel that if you are passionate enough...</td>\n",
       "      <td>joy</td>\n",
       "    </tr>\n",
       "    <tr>\n",
       "      <th>19999</th>\n",
       "      <td>i feel like i just wanna buy any cute make up ...</td>\n",
       "      <td>joy</td>\n",
       "    </tr>\n",
       "  </tbody>\n",
       "</table>\n",
       "<p>20000 rows × 2 columns</p>\n",
       "</div>"
      ],
      "text/plain": [
       "                                                 content sentiment\n",
       "0                                i didnt feel humiliated   sadness\n",
       "1      i can go from feeling so hopeless to so damned...   sadness\n",
       "2       im grabbing a minute to post i feel greedy wrong     anger\n",
       "3      i am ever feeling nostalgic about the fireplac...      love\n",
       "4                                   i am feeling grouchy     anger\n",
       "...                                                  ...       ...\n",
       "19995  im having ssa examination tomorrow in the morn...   sadness\n",
       "19996  i constantly worry about their fight against n...       joy\n",
       "19997  i feel its important to share this info for th...       joy\n",
       "19998  i truly feel that if you are passionate enough...       joy\n",
       "19999  i feel like i just wanna buy any cute make up ...       joy\n",
       "\n",
       "[20000 rows x 2 columns]"
      ]
     },
     "execution_count": 4,
     "metadata": {},
     "output_type": "execute_result"
    }
   ],
   "source": [
    "df=pd.read_csv('text_emotions.csv')\n",
    "df"
   ]
  },
  {
   "cell_type": "code",
   "execution_count": 5,
   "id": "0a0b6b5b-9483-495d-9e49-d742aeb69d35",
   "metadata": {},
   "outputs": [
    {
     "name": "stdout",
     "output_type": "stream",
     "text": [
      "Dataset Size:  (20000, 2)\n",
      "Columns:  Index(['content', 'sentiment'], dtype='object')\n"
     ]
    }
   ],
   "source": [
    "print('Dataset Size: ',df.shape)\n",
    "print('Columns: ',df.columns)\n",
    "y=df['sentiment']"
   ]
  },
  {
   "cell_type": "code",
   "execution_count": 6,
   "id": "50b53d3c-67b9-4f94-851d-64c013675163",
   "metadata": {},
   "outputs": [
    {
     "name": "stdout",
     "output_type": "stream",
     "text": [
      "<class 'pandas.core.frame.DataFrame'>\n",
      "RangeIndex: 20000 entries, 0 to 19999\n",
      "Data columns (total 2 columns):\n",
      " #   Column     Non-Null Count  Dtype \n",
      "---  ------     --------------  ----- \n",
      " 0   content    20000 non-null  object\n",
      " 1   sentiment  20000 non-null  object\n",
      "dtypes: object(2)\n",
      "memory usage: 312.6+ KB\n"
     ]
    }
   ],
   "source": [
    "df.info()"
   ]
  },
  {
   "cell_type": "code",
   "execution_count": 7,
   "id": "7bb11c67-e596-4158-9bc7-8908164cf5b3",
   "metadata": {},
   "outputs": [
    {
     "data": {
      "text/html": [
       "<div>\n",
       "<style scoped>\n",
       "    .dataframe tbody tr th:only-of-type {\n",
       "        vertical-align: middle;\n",
       "    }\n",
       "\n",
       "    .dataframe tbody tr th {\n",
       "        vertical-align: top;\n",
       "    }\n",
       "\n",
       "    .dataframe thead th {\n",
       "        text-align: right;\n",
       "    }\n",
       "</style>\n",
       "<table border=\"1\" class=\"dataframe\">\n",
       "  <thead>\n",
       "    <tr style=\"text-align: right;\">\n",
       "      <th></th>\n",
       "      <th>content</th>\n",
       "      <th>sentiment</th>\n",
       "    </tr>\n",
       "  </thead>\n",
       "  <tbody>\n",
       "    <tr>\n",
       "      <th>count</th>\n",
       "      <td>20000</td>\n",
       "      <td>20000</td>\n",
       "    </tr>\n",
       "    <tr>\n",
       "      <th>unique</th>\n",
       "      <td>19948</td>\n",
       "      <td>6</td>\n",
       "    </tr>\n",
       "    <tr>\n",
       "      <th>top</th>\n",
       "      <td>i have chose for myself that makes me feel ama...</td>\n",
       "      <td>joy</td>\n",
       "    </tr>\n",
       "    <tr>\n",
       "      <th>freq</th>\n",
       "      <td>2</td>\n",
       "      <td>6761</td>\n",
       "    </tr>\n",
       "  </tbody>\n",
       "</table>\n",
       "</div>"
      ],
      "text/plain": [
       "                                                  content sentiment\n",
       "count                                               20000     20000\n",
       "unique                                              19948         6\n",
       "top     i have chose for myself that makes me feel ama...       joy\n",
       "freq                                                    2      6761"
      ]
     },
     "execution_count": 7,
     "metadata": {},
     "output_type": "execute_result"
    }
   ],
   "source": [
    "df.describe()"
   ]
  },
  {
   "cell_type": "code",
   "execution_count": 8,
   "id": "066dc3df-5348-4a72-b2d3-324497a15b1c",
   "metadata": {},
   "outputs": [
    {
     "data": {
      "text/plain": [
       "<Axes: xlabel='sentiment', ylabel='count'>"
      ]
     },
     "execution_count": 8,
     "metadata": {},
     "output_type": "execute_result"
    },
    {
     "data": {
      "image/png": "[encoded data removed]",
      "text/plain": [
       "<Figure size 640x480 with 1 Axes>"
      ]
     },
     "metadata": {},
     "output_type": "display_data"
    }
   ],
   "source": [
    "sns.countplot(x='sentiment',hue='sentiment', data=df, legend=False, palette=\"Set2\")"
   ]
  },
  {
   "cell_type": "code",
   "execution_count": 9,
   "id": "72ccd66f-ae8f-439a-b725-103736bb3e33",
   "metadata": {},
   "outputs": [],
   "source": [
    "# Pre-processing of Data"
   ]
  },
  {
   "cell_type": "code",
   "execution_count": 10,
   "id": "351985b0-a0db-46ef-90ca-319e382d9de5",
   "metadata": {},
   "outputs": [
    {
     "data": {
      "text/html": [
       "<div>\n",
       "<style scoped>\n",
       "    .dataframe tbody tr th:only-of-type {\n",
       "        vertical-align: middle;\n",
       "    }\n",
       "\n",
       "    .dataframe tbody tr th {\n",
       "        vertical-align: top;\n",
       "    }\n",
       "\n",
       "    .dataframe thead th {\n",
       "        text-align: right;\n",
       "    }\n",
       "</style>\n",
       "<table border=\"1\" class=\"dataframe\">\n",
       "  <thead>\n",
       "    <tr style=\"text-align: right;\">\n",
       "      <th></th>\n",
       "      <th>content</th>\n",
       "      <th>sentiment</th>\n",
       "      <th>Tweet_punct</th>\n",
       "    </tr>\n",
       "  </thead>\n",
       "  <tbody>\n",
       "    <tr>\n",
       "      <th>0</th>\n",
       "      <td>i didnt feel humiliated</td>\n",
       "      <td>sadness</td>\n",
       "      <td>i didnt feel humiliated</td>\n",
       "    </tr>\n",
       "    <tr>\n",
       "      <th>1</th>\n",
       "      <td>i can go from feeling so hopeless to so damned...</td>\n",
       "      <td>sadness</td>\n",
       "      <td>i can go from feeling so hopeless to so damned...</td>\n",
       "    </tr>\n",
       "    <tr>\n",
       "      <th>2</th>\n",
       "      <td>im grabbing a minute to post i feel greedy wrong</td>\n",
       "      <td>anger</td>\n",
       "      <td>im grabbing a minute to post i feel greedy wrong</td>\n",
       "    </tr>\n",
       "    <tr>\n",
       "      <th>3</th>\n",
       "      <td>i am ever feeling nostalgic about the fireplac...</td>\n",
       "      <td>love</td>\n",
       "      <td>i am ever feeling nostalgic about the fireplac...</td>\n",
       "    </tr>\n",
       "    <tr>\n",
       "      <th>4</th>\n",
       "      <td>i am feeling grouchy</td>\n",
       "      <td>anger</td>\n",
       "      <td>i am feeling grouchy</td>\n",
       "    </tr>\n",
       "    <tr>\n",
       "      <th>5</th>\n",
       "      <td>ive been feeling a little burdened lately wasn...</td>\n",
       "      <td>sadness</td>\n",
       "      <td>ive been feeling a little burdened lately wasn...</td>\n",
       "    </tr>\n",
       "    <tr>\n",
       "      <th>6</th>\n",
       "      <td>ive been taking or milligrams or times recomme...</td>\n",
       "      <td>surprise</td>\n",
       "      <td>ive been taking or milligrams or times recomme...</td>\n",
       "    </tr>\n",
       "    <tr>\n",
       "      <th>7</th>\n",
       "      <td>i feel as confused about life as a teenager or...</td>\n",
       "      <td>fear</td>\n",
       "      <td>i feel as confused about life as a teenager or...</td>\n",
       "    </tr>\n",
       "    <tr>\n",
       "      <th>8</th>\n",
       "      <td>i have been with petronas for years i feel tha...</td>\n",
       "      <td>joy</td>\n",
       "      <td>i have been with petronas for years i feel tha...</td>\n",
       "    </tr>\n",
       "    <tr>\n",
       "      <th>9</th>\n",
       "      <td>i feel romantic too</td>\n",
       "      <td>love</td>\n",
       "      <td>i feel romantic too</td>\n",
       "    </tr>\n",
       "  </tbody>\n",
       "</table>\n",
       "</div>"
      ],
      "text/plain": [
       "                                             content sentiment  \\\n",
       "0                            i didnt feel humiliated   sadness   \n",
       "1  i can go from feeling so hopeless to so damned...   sadness   \n",
       "2   im grabbing a minute to post i feel greedy wrong     anger   \n",
       "3  i am ever feeling nostalgic about the fireplac...      love   \n",
       "4                               i am feeling grouchy     anger   \n",
       "5  ive been feeling a little burdened lately wasn...   sadness   \n",
       "6  ive been taking or milligrams or times recomme...  surprise   \n",
       "7  i feel as confused about life as a teenager or...      fear   \n",
       "8  i have been with petronas for years i feel tha...       joy   \n",
       "9                                i feel romantic too      love   \n",
       "\n",
       "                                         Tweet_punct  \n",
       "0                            i didnt feel humiliated  \n",
       "1  i can go from feeling so hopeless to so damned...  \n",
       "2   im grabbing a minute to post i feel greedy wrong  \n",
       "3  i am ever feeling nostalgic about the fireplac...  \n",
       "4                               i am feeling grouchy  \n",
       "5  ive been feeling a little burdened lately wasn...  \n",
       "6  ive been taking or milligrams or times recomme...  \n",
       "7  i feel as confused about life as a teenager or...  \n",
       "8  i have been with petronas for years i feel tha...  \n",
       "9                                i feel romantic too  "
      ]
     },
     "execution_count": 10,
     "metadata": {},
     "output_type": "execute_result"
    }
   ],
   "source": [
    "# 1. Remove Punctuations\n",
    "emojis = pd.read_csv('emojis.txt',sep=',',header=None)\n",
    "emojis_dict = {i:j for i,j in zip(emojis[0],emojis[1])} # Creates a dictionary with each emoji mapped to its meaning \n",
    "pattern = '|'.join(sorted(re.escape(k) for k in emojis_dict))\n",
    "\n",
    "def replace_emojis(text): # It replaces emoji with their mapped values in the given text\n",
    "    text = re.sub(pattern,lambda m: emojis_dict.get(m.group(0)), text, flags=re.IGNORECASE)\n",
    "    return text\n",
    "\n",
    "def remove_punct(text): # It removes punctuation marks from the text\n",
    "    text = replace_emojis(text)\n",
    "    text  = \"\".join([char for char in text if char not in string.punctuation])\n",
    "    text = re.sub('[0-9]+', '', text)\n",
    "    return text\n",
    "\n",
    "df['Tweet_punct'] = df['content'].apply(lambda x: remove_punct(x))\n",
    "df.head(10)"
   ]
  },
  {
   "cell_type": "code",
   "execution_count": 11,
   "id": "181e5627-4bf7-4dd9-bc17-dc95de2e10c7",
   "metadata": {},
   "outputs": [
    {
     "data": {
      "text/html": [
       "<div>\n",
       "<style scoped>\n",
       "    .dataframe tbody tr th:only-of-type {\n",
       "        vertical-align: middle;\n",
       "    }\n",
       "\n",
       "    .dataframe tbody tr th {\n",
       "        vertical-align: top;\n",
       "    }\n",
       "\n",
       "    .dataframe thead th {\n",
       "        text-align: right;\n",
       "    }\n",
       "</style>\n",
       "<table border=\"1\" class=\"dataframe\">\n",
       "  <thead>\n",
       "    <tr style=\"text-align: right;\">\n",
       "      <th></th>\n",
       "      <th>content</th>\n",
       "      <th>sentiment</th>\n",
       "      <th>Tweet_punct</th>\n",
       "      <th>Tweet_tokenized</th>\n",
       "    </tr>\n",
       "  </thead>\n",
       "  <tbody>\n",
       "    <tr>\n",
       "      <th>0</th>\n",
       "      <td>i didnt feel humiliated</td>\n",
       "      <td>sadness</td>\n",
       "      <td>i didnt feel humiliated</td>\n",
       "      <td>[i, didnt, feel, humiliated]</td>\n",
       "    </tr>\n",
       "    <tr>\n",
       "      <th>1</th>\n",
       "      <td>i can go from feeling so hopeless to so damned...</td>\n",
       "      <td>sadness</td>\n",
       "      <td>i can go from feeling so hopeless to so damned...</td>\n",
       "      <td>[i, can, go, from, feeling, so, hopeless, to, ...</td>\n",
       "    </tr>\n",
       "    <tr>\n",
       "      <th>2</th>\n",
       "      <td>im grabbing a minute to post i feel greedy wrong</td>\n",
       "      <td>anger</td>\n",
       "      <td>im grabbing a minute to post i feel greedy wrong</td>\n",
       "      <td>[im, grabbing, a, minute, to, post, i, feel, g...</td>\n",
       "    </tr>\n",
       "    <tr>\n",
       "      <th>3</th>\n",
       "      <td>i am ever feeling nostalgic about the fireplac...</td>\n",
       "      <td>love</td>\n",
       "      <td>i am ever feeling nostalgic about the fireplac...</td>\n",
       "      <td>[i, am, ever, feeling, nostalgic, about, the, ...</td>\n",
       "    </tr>\n",
       "    <tr>\n",
       "      <th>4</th>\n",
       "      <td>i am feeling grouchy</td>\n",
       "      <td>anger</td>\n",
       "      <td>i am feeling grouchy</td>\n",
       "      <td>[i, am, feeling, grouchy]</td>\n",
       "    </tr>\n",
       "    <tr>\n",
       "      <th>5</th>\n",
       "      <td>ive been feeling a little burdened lately wasn...</td>\n",
       "      <td>sadness</td>\n",
       "      <td>ive been feeling a little burdened lately wasn...</td>\n",
       "      <td>[ive, been, feeling, a, little, burdened, late...</td>\n",
       "    </tr>\n",
       "    <tr>\n",
       "      <th>6</th>\n",
       "      <td>ive been taking or milligrams or times recomme...</td>\n",
       "      <td>surprise</td>\n",
       "      <td>ive been taking or milligrams or times recomme...</td>\n",
       "      <td>[ive, been, taking, or, milligrams, or, times,...</td>\n",
       "    </tr>\n",
       "    <tr>\n",
       "      <th>7</th>\n",
       "      <td>i feel as confused about life as a teenager or...</td>\n",
       "      <td>fear</td>\n",
       "      <td>i feel as confused about life as a teenager or...</td>\n",
       "      <td>[i, feel, as, confused, about, life, as, a, te...</td>\n",
       "    </tr>\n",
       "    <tr>\n",
       "      <th>8</th>\n",
       "      <td>i have been with petronas for years i feel tha...</td>\n",
       "      <td>joy</td>\n",
       "      <td>i have been with petronas for years i feel tha...</td>\n",
       "      <td>[i, have, been, with, petronas, for, years, i,...</td>\n",
       "    </tr>\n",
       "    <tr>\n",
       "      <th>9</th>\n",
       "      <td>i feel romantic too</td>\n",
       "      <td>love</td>\n",
       "      <td>i feel romantic too</td>\n",
       "      <td>[i, feel, romantic, too]</td>\n",
       "    </tr>\n",
       "  </tbody>\n",
       "</table>\n",
       "</div>"
      ],
      "text/plain": [
       "                                             content sentiment  \\\n",
       "0                            i didnt feel humiliated   sadness   \n",
       "1  i can go from feeling so hopeless to so damned...   sadness   \n",
       "2   im grabbing a minute to post i feel greedy wrong     anger   \n",
       "3  i am ever feeling nostalgic about the fireplac...      love   \n",
       "4                               i am feeling grouchy     anger   \n",
       "5  ive been feeling a little burdened lately wasn...   sadness   \n",
       "6  ive been taking or milligrams or times recomme...  surprise   \n",
       "7  i feel as confused about life as a teenager or...      fear   \n",
       "8  i have been with petronas for years i feel tha...       joy   \n",
       "9                                i feel romantic too      love   \n",
       "\n",
       "                                         Tweet_punct  \\\n",
       "0                            i didnt feel humiliated   \n",
       "1  i can go from feeling so hopeless to so damned...   \n",
       "2   im grabbing a minute to post i feel greedy wrong   \n",
       "3  i am ever feeling nostalgic about the fireplac...   \n",
       "4                               i am feeling grouchy   \n",
       "5  ive been feeling a little burdened lately wasn...   \n",
       "6  ive been taking or milligrams or times recomme...   \n",
       "7  i feel as confused about life as a teenager or...   \n",
       "8  i have been with petronas for years i feel tha...   \n",
       "9                                i feel romantic too   \n",
       "\n",
       "                                     Tweet_tokenized  \n",
       "0                       [i, didnt, feel, humiliated]  \n",
       "1  [i, can, go, from, feeling, so, hopeless, to, ...  \n",
       "2  [im, grabbing, a, minute, to, post, i, feel, g...  \n",
       "3  [i, am, ever, feeling, nostalgic, about, the, ...  \n",
       "4                          [i, am, feeling, grouchy]  \n",
       "5  [ive, been, feeling, a, little, burdened, late...  \n",
       "6  [ive, been, taking, or, milligrams, or, times,...  \n",
       "7  [i, feel, as, confused, about, life, as, a, te...  \n",
       "8  [i, have, been, with, petronas, for, years, i,...  \n",
       "9                           [i, feel, romantic, too]  "
      ]
     },
     "execution_count": 11,
     "metadata": {},
     "output_type": "execute_result"
    }
   ],
   "source": [
    "# 2. Tokenization\n",
    "\n",
    "def tokenization(text):\n",
    "    text = text.lower() # It converts the text into lower case\n",
    "    text = re.split(r'\\W+', text) # It split text into tokens by removing punctuation marks, spaces and special characters\n",
    "    \n",
    "    return text\n",
    "\n",
    "df['Tweet_tokenized'] = df['Tweet_punct'].apply(lambda x: tokenization(x.lower()))\n",
    "df.head(10)"
   ]
  },
  {
   "cell_type": "code",
   "execution_count": 12,
   "id": "a368d2fc-eba7-4370-b93b-e63eb9482529",
   "metadata": {},
   "outputs": [
    {
     "name": "stderr",
     "output_type": "stream",
     "text": [
      "[nltk_data] Downloading package stopwords to\n",
      "[nltk_data]     C:\\Users\\megha\\AppData\\Roaming\\nltk_data...\n",
      "[nltk_data]   Package stopwords is already up-to-date!\n"
     ]
    }
   ],
   "source": [
    "#3. Remove Stopwords\n",
    "import nltk\n",
    "nltk.download('stopwords')\n",
    "stopword = nltk.corpus.stopwords.words('english')\n",
    "stopword.extend(['yr', 'year', 'woman', 'man', 'girl','boy','one', 'two', 'sixteen', 'yearold', 'fu', 'weeks', 'week',\n",
    "              'treatment', 'associated', 'patients', 'may','day', 'case','old','u','n','didnt','ive','ate','feel','keep'\n",
    "                ,'brother','dad','basic','im'])"
   ]
  },
  {
   "cell_type": "code",
   "execution_count": 13,
   "id": "c351e0a9-1069-4921-8255-fb233fac1d1c",
   "metadata": {},
   "outputs": [
    {
     "data": {
      "text/html": [
       "<div>\n",
       "<style scoped>\n",
       "    .dataframe tbody tr th:only-of-type {\n",
       "        vertical-align: middle;\n",
       "    }\n",
       "\n",
       "    .dataframe tbody tr th {\n",
       "        vertical-align: top;\n",
       "    }\n",
       "\n",
       "    .dataframe thead th {\n",
       "        text-align: right;\n",
       "    }\n",
       "</style>\n",
       "<table border=\"1\" class=\"dataframe\">\n",
       "  <thead>\n",
       "    <tr style=\"text-align: right;\">\n",
       "      <th></th>\n",
       "      <th>content</th>\n",
       "      <th>sentiment</th>\n",
       "      <th>Tweet_punct</th>\n",
       "      <th>Tweet_tokenized</th>\n",
       "      <th>Tweet_nonstop</th>\n",
       "    </tr>\n",
       "  </thead>\n",
       "  <tbody>\n",
       "    <tr>\n",
       "      <th>0</th>\n",
       "      <td>i didnt feel humiliated</td>\n",
       "      <td>sadness</td>\n",
       "      <td>i didnt feel humiliated</td>\n",
       "      <td>[i, didnt, feel, humiliated]</td>\n",
       "      <td>[humiliated]</td>\n",
       "    </tr>\n",
       "    <tr>\n",
       "      <th>1</th>\n",
       "      <td>i can go from feeling so hopeless to so damned...</td>\n",
       "      <td>sadness</td>\n",
       "      <td>i can go from feeling so hopeless to so damned...</td>\n",
       "      <td>[i, can, go, from, feeling, so, hopeless, to, ...</td>\n",
       "      <td>[go, feeling, hopeless, damned, hopeful, aroun...</td>\n",
       "    </tr>\n",
       "    <tr>\n",
       "      <th>2</th>\n",
       "      <td>im grabbing a minute to post i feel greedy wrong</td>\n",
       "      <td>anger</td>\n",
       "      <td>im grabbing a minute to post i feel greedy wrong</td>\n",
       "      <td>[im, grabbing, a, minute, to, post, i, feel, g...</td>\n",
       "      <td>[grabbing, minute, post, greedy, wrong]</td>\n",
       "    </tr>\n",
       "    <tr>\n",
       "      <th>3</th>\n",
       "      <td>i am ever feeling nostalgic about the fireplac...</td>\n",
       "      <td>love</td>\n",
       "      <td>i am ever feeling nostalgic about the fireplac...</td>\n",
       "      <td>[i, am, ever, feeling, nostalgic, about, the, ...</td>\n",
       "      <td>[ever, feeling, nostalgic, fireplace, know, st...</td>\n",
       "    </tr>\n",
       "    <tr>\n",
       "      <th>4</th>\n",
       "      <td>i am feeling grouchy</td>\n",
       "      <td>anger</td>\n",
       "      <td>i am feeling grouchy</td>\n",
       "      <td>[i, am, feeling, grouchy]</td>\n",
       "      <td>[feeling, grouchy]</td>\n",
       "    </tr>\n",
       "    <tr>\n",
       "      <th>5</th>\n",
       "      <td>ive been feeling a little burdened lately wasn...</td>\n",
       "      <td>sadness</td>\n",
       "      <td>ive been feeling a little burdened lately wasn...</td>\n",
       "      <td>[ive, been, feeling, a, little, burdened, late...</td>\n",
       "      <td>[feeling, little, burdened, lately, wasnt, sure]</td>\n",
       "    </tr>\n",
       "    <tr>\n",
       "      <th>6</th>\n",
       "      <td>ive been taking or milligrams or times recomme...</td>\n",
       "      <td>surprise</td>\n",
       "      <td>ive been taking or milligrams or times recomme...</td>\n",
       "      <td>[ive, been, taking, or, milligrams, or, times,...</td>\n",
       "      <td>[taking, milligrams, times, recommended, amoun...</td>\n",
       "    </tr>\n",
       "    <tr>\n",
       "      <th>7</th>\n",
       "      <td>i feel as confused about life as a teenager or...</td>\n",
       "      <td>fear</td>\n",
       "      <td>i feel as confused about life as a teenager or...</td>\n",
       "      <td>[i, feel, as, confused, about, life, as, a, te...</td>\n",
       "      <td>[confused, life, teenager, jaded]</td>\n",
       "    </tr>\n",
       "    <tr>\n",
       "      <th>8</th>\n",
       "      <td>i have been with petronas for years i feel tha...</td>\n",
       "      <td>joy</td>\n",
       "      <td>i have been with petronas for years i feel tha...</td>\n",
       "      <td>[i, have, been, with, petronas, for, years, i,...</td>\n",
       "      <td>[petronas, years, petronas, performed, well, m...</td>\n",
       "    </tr>\n",
       "    <tr>\n",
       "      <th>9</th>\n",
       "      <td>i feel romantic too</td>\n",
       "      <td>love</td>\n",
       "      <td>i feel romantic too</td>\n",
       "      <td>[i, feel, romantic, too]</td>\n",
       "      <td>[romantic]</td>\n",
       "    </tr>\n",
       "  </tbody>\n",
       "</table>\n",
       "</div>"
      ],
      "text/plain": [
       "                                             content sentiment  \\\n",
       "0                            i didnt feel humiliated   sadness   \n",
       "1  i can go from feeling so hopeless to so damned...   sadness   \n",
       "2   im grabbing a minute to post i feel greedy wrong     anger   \n",
       "3  i am ever feeling nostalgic about the fireplac...      love   \n",
       "4                               i am feeling grouchy     anger   \n",
       "5  ive been feeling a little burdened lately wasn...   sadness   \n",
       "6  ive been taking or milligrams or times recomme...  surprise   \n",
       "7  i feel as confused about life as a teenager or...      fear   \n",
       "8  i have been with petronas for years i feel tha...       joy   \n",
       "9                                i feel romantic too      love   \n",
       "\n",
       "                                         Tweet_punct  \\\n",
       "0                            i didnt feel humiliated   \n",
       "1  i can go from feeling so hopeless to so damned...   \n",
       "2   im grabbing a minute to post i feel greedy wrong   \n",
       "3  i am ever feeling nostalgic about the fireplac...   \n",
       "4                               i am feeling grouchy   \n",
       "5  ive been feeling a little burdened lately wasn...   \n",
       "6  ive been taking or milligrams or times recomme...   \n",
       "7  i feel as confused about life as a teenager or...   \n",
       "8  i have been with petronas for years i feel tha...   \n",
       "9                                i feel romantic too   \n",
       "\n",
       "                                     Tweet_tokenized  \\\n",
       "0                       [i, didnt, feel, humiliated]   \n",
       "1  [i, can, go, from, feeling, so, hopeless, to, ...   \n",
       "2  [im, grabbing, a, minute, to, post, i, feel, g...   \n",
       "3  [i, am, ever, feeling, nostalgic, about, the, ...   \n",
       "4                          [i, am, feeling, grouchy]   \n",
       "5  [ive, been, feeling, a, little, burdened, late...   \n",
       "6  [ive, been, taking, or, milligrams, or, times,...   \n",
       "7  [i, feel, as, confused, about, life, as, a, te...   \n",
       "8  [i, have, been, with, petronas, for, years, i,...   \n",
       "9                           [i, feel, romantic, too]   \n",
       "\n",
       "                                       Tweet_nonstop  \n",
       "0                                       [humiliated]  \n",
       "1  [go, feeling, hopeless, damned, hopeful, aroun...  \n",
       "2            [grabbing, minute, post, greedy, wrong]  \n",
       "3  [ever, feeling, nostalgic, fireplace, know, st...  \n",
       "4                                 [feeling, grouchy]  \n",
       "5   [feeling, little, burdened, lately, wasnt, sure]  \n",
       "6  [taking, milligrams, times, recommended, amoun...  \n",
       "7                  [confused, life, teenager, jaded]  \n",
       "8  [petronas, years, petronas, performed, well, m...  \n",
       "9                                         [romantic]  "
      ]
     },
     "execution_count": 13,
     "metadata": {},
     "output_type": "execute_result"
    }
   ],
   "source": [
    "def remove_stopwords(text): # Remove stopwords from text\n",
    "    text = [word for word in text if word not in stopword]\n",
    "    return text\n",
    "    \n",
    "df['Tweet_nonstop'] = df['Tweet_tokenized'].apply(lambda x: remove_stopwords(x))\n",
    "df.head(10)"
   ]
  },
  {
   "cell_type": "code",
   "execution_count": 14,
   "id": "e448ee68-ac09-4b69-be58-9088e2cb2436",
   "metadata": {},
   "outputs": [
    {
     "name": "stderr",
     "output_type": "stream",
     "text": [
      "[nltk_data] Downloading package wordnet to\n",
      "[nltk_data]     C:\\Users\\megha\\AppData\\Roaming\\nltk_data...\n",
      "[nltk_data]   Package wordnet is already up-to-date!\n"
     ]
    },
    {
     "data": {
      "text/html": [
       "<div>\n",
       "<style scoped>\n",
       "    .dataframe tbody tr th:only-of-type {\n",
       "        vertical-align: middle;\n",
       "    }\n",
       "\n",
       "    .dataframe tbody tr th {\n",
       "        vertical-align: top;\n",
       "    }\n",
       "\n",
       "    .dataframe thead th {\n",
       "        text-align: right;\n",
       "    }\n",
       "</style>\n",
       "<table border=\"1\" class=\"dataframe\">\n",
       "  <thead>\n",
       "    <tr style=\"text-align: right;\">\n",
       "      <th></th>\n",
       "      <th>content</th>\n",
       "      <th>sentiment</th>\n",
       "      <th>Tweet_punct</th>\n",
       "      <th>Tweet_tokenized</th>\n",
       "      <th>Tweet_nonstop</th>\n",
       "      <th>Tweet_lemmatized</th>\n",
       "    </tr>\n",
       "  </thead>\n",
       "  <tbody>\n",
       "    <tr>\n",
       "      <th>0</th>\n",
       "      <td>i didnt feel humiliated</td>\n",
       "      <td>sadness</td>\n",
       "      <td>i didnt feel humiliated</td>\n",
       "      <td>[i, didnt, feel, humiliated]</td>\n",
       "      <td>[humiliated]</td>\n",
       "      <td>[humiliated]</td>\n",
       "    </tr>\n",
       "    <tr>\n",
       "      <th>1</th>\n",
       "      <td>i can go from feeling so hopeless to so damned...</td>\n",
       "      <td>sadness</td>\n",
       "      <td>i can go from feeling so hopeless to so damned...</td>\n",
       "      <td>[i, can, go, from, feeling, so, hopeless, to, ...</td>\n",
       "      <td>[go, feeling, hopeless, damned, hopeful, aroun...</td>\n",
       "      <td>[go, feeling, hopeless, damned, hopeful, aroun...</td>\n",
       "    </tr>\n",
       "    <tr>\n",
       "      <th>2</th>\n",
       "      <td>im grabbing a minute to post i feel greedy wrong</td>\n",
       "      <td>anger</td>\n",
       "      <td>im grabbing a minute to post i feel greedy wrong</td>\n",
       "      <td>[im, grabbing, a, minute, to, post, i, feel, g...</td>\n",
       "      <td>[grabbing, minute, post, greedy, wrong]</td>\n",
       "      <td>[grabbing, minute, post, greedy, wrong]</td>\n",
       "    </tr>\n",
       "    <tr>\n",
       "      <th>3</th>\n",
       "      <td>i am ever feeling nostalgic about the fireplac...</td>\n",
       "      <td>love</td>\n",
       "      <td>i am ever feeling nostalgic about the fireplac...</td>\n",
       "      <td>[i, am, ever, feeling, nostalgic, about, the, ...</td>\n",
       "      <td>[ever, feeling, nostalgic, fireplace, know, st...</td>\n",
       "      <td>[ever, feeling, nostalgic, fireplace, know, st...</td>\n",
       "    </tr>\n",
       "    <tr>\n",
       "      <th>4</th>\n",
       "      <td>i am feeling grouchy</td>\n",
       "      <td>anger</td>\n",
       "      <td>i am feeling grouchy</td>\n",
       "      <td>[i, am, feeling, grouchy]</td>\n",
       "      <td>[feeling, grouchy]</td>\n",
       "      <td>[feeling, grouchy]</td>\n",
       "    </tr>\n",
       "  </tbody>\n",
       "</table>\n",
       "</div>"
      ],
      "text/plain": [
       "                                             content sentiment  \\\n",
       "0                            i didnt feel humiliated   sadness   \n",
       "1  i can go from feeling so hopeless to so damned...   sadness   \n",
       "2   im grabbing a minute to post i feel greedy wrong     anger   \n",
       "3  i am ever feeling nostalgic about the fireplac...      love   \n",
       "4                               i am feeling grouchy     anger   \n",
       "\n",
       "                                         Tweet_punct  \\\n",
       "0                            i didnt feel humiliated   \n",
       "1  i can go from feeling so hopeless to so damned...   \n",
       "2   im grabbing a minute to post i feel greedy wrong   \n",
       "3  i am ever feeling nostalgic about the fireplac...   \n",
       "4                               i am feeling grouchy   \n",
       "\n",
       "                                     Tweet_tokenized  \\\n",
       "0                       [i, didnt, feel, humiliated]   \n",
       "1  [i, can, go, from, feeling, so, hopeless, to, ...   \n",
       "2  [im, grabbing, a, minute, to, post, i, feel, g...   \n",
       "3  [i, am, ever, feeling, nostalgic, about, the, ...   \n",
       "4                          [i, am, feeling, grouchy]   \n",
       "\n",
       "                                       Tweet_nonstop  \\\n",
       "0                                       [humiliated]   \n",
       "1  [go, feeling, hopeless, damned, hopeful, aroun...   \n",
       "2            [grabbing, minute, post, greedy, wrong]   \n",
       "3  [ever, feeling, nostalgic, fireplace, know, st...   \n",
       "4                                 [feeling, grouchy]   \n",
       "\n",
       "                                    Tweet_lemmatized  \n",
       "0                                       [humiliated]  \n",
       "1  [go, feeling, hopeless, damned, hopeful, aroun...  \n",
       "2            [grabbing, minute, post, greedy, wrong]  \n",
       "3  [ever, feeling, nostalgic, fireplace, know, st...  \n",
       "4                                 [feeling, grouchy]  "
      ]
     },
     "execution_count": 14,
     "metadata": {},
     "output_type": "execute_result"
    }
   ],
   "source": [
    "# 4. Lemmatization\n",
    "nltk.download('wordnet')\n",
    "wn = nltk.WordNetLemmatizer()\n",
    "\n",
    "def lemmatizer(text):\n",
    "    text = [wn.lemmatize(word) for word in text]\n",
    "    return text\n",
    "\n",
    "df['Tweet_lemmatized'] = df['Tweet_nonstop'].apply(lambda x: lemmatizer(x))\n",
    "df.head()"
   ]
  },
  {
   "cell_type": "code",
   "execution_count": 15,
   "id": "06050994-2a95-4e0a-a2b1-915fa38edb6a",
   "metadata": {},
   "outputs": [
    {
     "data": {
      "image/png": "[encoded data removed]",
      "text/plain": [
       "<Figure size 640x480 with 1 Axes>"
      ]
     },
     "metadata": {},
     "output_type": "display_data"
    }
   ],
   "source": [
    "# Calculating Token Frequency in a sentence\n",
    "token_lengths = [len(t) for t in df['Tweet_lemmatized']]\n",
    "plt.hist(token_lengths,bins=33,width = 0.7, fc=\"green\",alpha=0.5)\n",
    "plt.xlabel('Number of Tokens')\n",
    "plt.ylabel('Number of Sentences')\n",
    "plt.title('Token Frequency')\n",
    "x_Values = [i for i in range(36)] \n",
    "plt.xticks(x_Values)\n",
    "plt.xlim(0,36)\n",
    "plt.rcParams[\"figure.figsize\"] = (10,5)\n",
    "plt.show()\n",
    "\n",
    "# This graph basically shows how many sentences have token length (number of tokens in a particular sentence)in the range between 0 to 35"
   ]
  },
  {
   "cell_type": "code",
   "execution_count": 16,
   "id": "cee4498a-9bda-48b5-a80c-e6218b554a70",
   "metadata": {},
   "outputs": [],
   "source": [
    "# Text Preprocessing\n",
    "def clean_text(text):\n",
    "    text = remove_punct(text)\n",
    "    text = tokenization(text)\n",
    "    text = remove_stopwords(text)\n",
    "    text = lemmatizer(text)\n",
    "    return text"
   ]
  },
  {
   "cell_type": "code",
   "execution_count": 17,
   "id": "fe4eae63-0e74-499a-aaca-51fd3b858f2f",
   "metadata": {},
   "outputs": [],
   "source": [
    "# Feature Extraction"
   ]
  },
  {
   "cell_type": "code",
   "execution_count": 18,
   "id": "fd5cff92-2810-4b52-ac37-8a41741ed06f",
   "metadata": {},
   "outputs": [
    {
     "name": "stdout",
     "output_type": "stream",
     "text": [
      "Vocabulary:  {'time': 6, 'flies': 3, 'like': 5, 'an': 0, 'arrow': 1, 'fruit': 4, 'banana': 2}\n",
      "Encoded Document is:\n",
      "[[1 1 0 2 0 1 1]\n",
      " [0 0 1 1 1 1 0]]\n",
      "['an', 'arrow', 'banana', 'flies', 'fruit', 'like', 'time']\n"
     ]
    },
    {
     "data": {
      "text/plain": [
       "<Axes: >"
      ]
     },
     "execution_count": 18,
     "metadata": {},
     "output_type": "execute_result"
    },
    {
     "data": {
      "image/png": "[encoded data removed]",
      "text/plain": [
       "<Figure size 1000x500 with 1 Axes>"
      ]
     },
     "metadata": {},
     "output_type": "display_data"
    }
   ],
   "source": [
    "# Count Vectorizer : Here we assign a numerical value to each unique word in the sentence and represent it in the form of a matrix where the values in the matrix denotes the number of times that word appears in that sentence\n",
    "from sklearn.feature_extraction.text import CountVectorizer\n",
    "document = [\"Time flies flies like an arrow\",\n",
    "            \"Fruit flies like a banana\"]\n",
    "  \n",
    "# Create a Vectorizer Object\n",
    "vectorizer = CountVectorizer()\n",
    "  \n",
    "vectorizer.fit(document)\n",
    "  \n",
    "# Printing the identified Unique words along with their indices\n",
    "print(\"Vocabulary: \", vectorizer.vocabulary_)\n",
    "  \n",
    "# Encode the Document\n",
    "vector = vectorizer.transform(document)\n",
    "  \n",
    "# Summarizing the Encoded Texts\n",
    "print(\"Encoded Document is:\")\n",
    "print(vector.toarray())\n",
    "\n",
    "dictionary = sorted(vectorizer.vocabulary_)\n",
    "\n",
    "print(dictionary)\n",
    "\n",
    "sns.heatmap(vector.toarray(), annot=True, cbar=False, xticklabels=dictionary,\n",
    "                                             yticklabels=['Sentence 1','Sentence 2'])"
   ]
  },
  {
   "cell_type": "code",
   "execution_count": 19,
   "id": "77f559f0-0095-475b-8c26-3adbf0e55aa0",
   "metadata": {},
   "outputs": [
    {
     "name": "stdout",
     "output_type": "stream",
     "text": [
      "[[0.42519636 0.42519636 0.         0.60506143 0.         0.30253071\n",
      "  0.42519636]\n",
      " [0.         0.         0.57615236 0.40993715 0.57615236 0.40993715\n",
      "  0.        ]]\n",
      "{'time': 6, 'flies': 3, 'like': 5, 'an': 0, 'arrow': 1, 'fruit': 4, 'banana': 2}\n",
      "['an', 'arrow', 'banana', 'flies', 'fruit', 'like', 'time']\n"
     ]
    },
    {
     "data": {
      "text/plain": [
       "<Axes: >"
      ]
     },
     "execution_count": 19,
     "metadata": {},
     "output_type": "execute_result"
    },
    {
     "data": {
      "image/png": "[encoded data removed]",
      "text/plain": [
       "<Figure size 1000x500 with 1 Axes>"
      ]
     },
     "metadata": {},
     "output_type": "display_data"
    }
   ],
   "source": [
    "# TF-IDF : It is used to find the words that are important in a document, compared to all other words. If we were to just count the number of frequently occuring words then 'the', 'is', 'a' would be dominating the entire document and would provide no useful information. This method gives weight to the words that are occuring with low frequency. \n",
    "from sklearn.feature_extraction.text import TfidfVectorizer\n",
    "\n",
    "document = ['Time flies flies like an arrow.',\n",
    "          'Fruit flies like a banana.']\n",
    "\n",
    "tfidf_vectorizer = TfidfVectorizer()\n",
    "tfidf = tfidf_vectorizer.fit_transform(document).toarray()\n",
    "\n",
    "print (tfidf)\n",
    "\n",
    "print (tfidf_vectorizer.vocabulary_)\n",
    "\n",
    "dictionary = sorted(tfidf_vectorizer.vocabulary_)\n",
    "\n",
    "print(dictionary)\n",
    "\n",
    "sns.heatmap(tfidf, annot=True, cbar=False, xticklabels=dictionary,\n",
    "                                           yticklabels=['Sentence 1','Sentence 2'])"
   ]
  },
  {
   "cell_type": "code",
   "execution_count": 20,
   "id": "3089fee4-83f4-4f16-9223-f323ae018982",
   "metadata": {},
   "outputs": [],
   "source": [
    "# Applying Train Test Split\n",
    "from sklearn.model_selection import train_test_split\n",
    "X_train, X_test, y_train, y_test = train_test_split(df['content'], df['sentiment'],test_size=0.3, random_state = 0)"
   ]
  },
  {
   "cell_type": "code",
   "execution_count": 21,
   "id": "4f2b6c5e-92f5-460d-8606-8fe3b7505294",
   "metadata": {},
   "outputs": [],
   "source": [
    "from sklearn.feature_extraction.text import TfidfTransformer\n",
    "countVectorizer1 = CountVectorizer(analyzer=clean_text)\n",
    "countVector1 = countVectorizer1.fit_transform(X_train)\n",
    "\n",
    "countVector2 = countVectorizer1.transform(X_test)\n",
    "\n",
    "tfidf_transformer_xtrain = TfidfTransformer()\n",
    "x_train = tfidf_transformer_xtrain.fit_transform(countVector1)\n",
    "\n",
    "tfidf_transformer_xtest = TfidfTransformer()\n",
    "x_test = tfidf_transformer_xtest.fit_transform(countVector2)"
   ]
  },
  {
   "cell_type": "code",
   "execution_count": 22,
   "id": "fd32755d-5ca1-414f-b551-aaddd502d609",
   "metadata": {},
   "outputs": [],
   "source": [
    "# Classifier Model Libraries\n",
    "from sklearn.linear_model import SGDClassifier\n",
    "from sklearn.ensemble import RandomForestClassifier\n",
    "from xgboost import XGBClassifier\n",
    "import xgboost as xgb\n",
    "from sklearn.linear_model import LogisticRegression\n",
    "from sklearn.naive_bayes import MultinomialNB\n",
    "from sklearn import tree"
   ]
  },
  {
   "cell_type": "code",
   "execution_count": 23,
   "id": "bfbe8eea-143c-47ce-87f4-c0b86623f697",
   "metadata": {},
   "outputs": [],
   "source": [
    "# Performance Matrix Libraries\n",
    "from sklearn.metrics import accuracy_score\n",
    "from sklearn.metrics import precision_score\n",
    "from sklearn.metrics import recall_score\n",
    "from sklearn.metrics import confusion_matrix\n",
    "from sklearn.metrics import f1_score\n",
    "from sklearn.metrics import classification_report\n",
    "from sklearn.metrics import ConfusionMatrixDisplay"
   ]
  },
  {
   "cell_type": "code",
   "execution_count": 24,
   "id": "eddeed8f-df64-4b01-b28d-526b5a4d52d9",
   "metadata": {},
   "outputs": [],
   "source": [
    "# Model Training"
   ]
  },
  {
   "cell_type": "code",
   "execution_count": 25,
   "id": "2319713b-d9c7-4a8e-bec3-446084f2b5a0",
   "metadata": {},
   "outputs": [
    {
     "name": "stdout",
     "output_type": "stream",
     "text": [
      "Accuracy: 89.483\n",
      "Precision: 88.549\n",
      "Recall: 83.426\n",
      "F1-score: 85.674\n",
      "              precision    recall  f1-score   support\n",
      "\n",
      "       anger       0.91      0.85      0.88       828\n",
      "        fear       0.89      0.84      0.86       741\n",
      "         joy       0.89      0.95      0.92      2019\n",
      "        love       0.84      0.75      0.80       484\n",
      "     sadness       0.91      0.95      0.93      1715\n",
      "    surprise       0.87      0.67      0.76       213\n",
      "\n",
      "    accuracy                           0.89      6000\n",
      "   macro avg       0.89      0.83      0.86      6000\n",
      "weighted avg       0.89      0.89      0.89      6000\n",
      "\n"
     ]
    }
   ],
   "source": [
    "# Support Vector Machine (SVM)\n",
    "svm = SGDClassifier()\n",
    "svm.fit(x_train, y_train)\n",
    "\n",
    "y_pred = svm.predict(x_test)\n",
    "\n",
    "svm_acc = accuracy_score(y_pred, y_test)\n",
    "svm_prec = precision_score(y_test, y_pred, average='macro')\n",
    "svm_recal = recall_score(y_test, y_pred, average='macro')\n",
    "svm_cm = confusion_matrix(y_test,y_pred)\n",
    "svm_f1 = f1_score(y_test, y_pred, average='macro')\n",
    "\n",
    "print('Accuracy:', '{0:.3f}'.format(svm_acc*100))\n",
    "print('Precision:', '{0:.3f}'.format(svm_prec*100))\n",
    "print('Recall:', '{0:.3f}'.format(svm_recal*100))\n",
    "print('F1-score:', '{0:.3f}'.format(svm_f1*100))\n",
    "print(classification_report(y_test,y_pred))"
   ]
  },
  {
   "cell_type": "code",
   "execution_count": 26,
   "id": "232aede6-2443-4196-8084-371d8ae09cd8",
   "metadata": {},
   "outputs": [
    {
     "data": {
      "text/plain": [
       "<sklearn.metrics._plot.confusion_matrix.ConfusionMatrixDisplay at 0x260dc79d400>"
      ]
     },
     "execution_count": 26,
     "metadata": {},
     "output_type": "execute_result"
    },
    {
     "data": {
      "image/png": "[encoded data removed]",
      "text/plain": [
       "<Figure size 800x800 with 2 Axes>"
      ]
     },
     "metadata": {},
     "output_type": "display_data"
    }
   ],
   "source": [
    "# Confusion Matrix\n",
    "cm_display_svm = ConfusionMatrixDisplay(svm_cm, display_labels=svm.classes_)\n",
    "fig, ax = plt.subplots(figsize=(8,8)) # adjust the size\n",
    "cm_display_svm.plot(ax=ax,cmap='Blues')"
   ]
  },
  {
   "cell_type": "code",
   "execution_count": 27,
   "id": "a9e85118-f5b6-4d64-ab62-626790f3ed17",
   "metadata": {},
   "outputs": [
    {
     "name": "stdout",
     "output_type": "stream",
     "text": [
      "Accuracy: 86.200\n",
      "Precision: 87.959\n",
      "Recall: 76.543\n",
      "F1-score: 80.762\n",
      "              precision    recall  f1-score   support\n",
      "\n",
      "       anger       0.91      0.78      0.84       828\n",
      "        fear       0.87      0.77      0.82       741\n",
      "         joy       0.82      0.95      0.88      2019\n",
      "        love       0.87      0.64      0.73       484\n",
      "     sadness       0.88      0.94      0.91      1715\n",
      "    surprise       0.92      0.52      0.66       213\n",
      "\n",
      "    accuracy                           0.86      6000\n",
      "   macro avg       0.88      0.77      0.81      6000\n",
      "weighted avg       0.87      0.86      0.86      6000\n",
      "\n"
     ]
    }
   ],
   "source": [
    "# Logistic Regression\n",
    "logisticRegr = LogisticRegression()\n",
    "\n",
    "logisticRegr.fit(x_train, y_train)\n",
    "\n",
    "y_pred = logisticRegr.predict(x_test)\n",
    "\n",
    "lr_acc = accuracy_score(y_pred, y_test)\n",
    "lr_prec = precision_score(y_test, y_pred, average='macro')\n",
    "lr_recal = recall_score(y_test, y_pred, average='macro')\n",
    "lr_cm = confusion_matrix(y_test,y_pred)\n",
    "lr_f1 = f1_score(y_test, y_pred, average='macro')\n",
    "\n",
    "print('Accuracy:', '{0:.3f}'.format(lr_acc*100))\n",
    "print('Precision:', '{0:.3f}'.format(lr_prec*100))\n",
    "print('Recall:', '{0:.3f}'.format(lr_recal*100))\n",
    "print('F1-score:', '{0:.3f}'.format(lr_f1*100))\n",
    "print(classification_report(y_test,y_pred))"
   ]
  },
  {
   "cell_type": "code",
   "execution_count": 28,
   "id": "829a5a60-f7a6-4f57-a6a8-8c3115953ce6",
   "metadata": {},
   "outputs": [
    {
     "data": {
      "text/plain": [
       "<sklearn.metrics._plot.confusion_matrix.ConfusionMatrixDisplay at 0x260dc375bd0>"
      ]
     },
     "execution_count": 28,
     "metadata": {},
     "output_type": "execute_result"
    },
    {
     "data": {
      "image/png": "[encoded data removed]",
      "text/plain": [
       "<Figure size 800x800 with 2 Axes>"
      ]
     },
     "metadata": {},
     "output_type": "display_data"
    }
   ],
   "source": [
    "# Confusion Matrix\n",
    "cm_display_lr = ConfusionMatrixDisplay(lr_cm, display_labels=logisticRegr.classes_)\n",
    "fig, ax = plt.subplots(figsize=(8,8)) # adjust the size\n",
    "cm_display_lr.plot(ax=ax,cmap='PuRd')"
   ]
  },
  {
   "cell_type": "code",
   "execution_count": 29,
   "id": "3224019c-6ce3-46dc-a60e-76821574a347",
   "metadata": {},
   "outputs": [
    {
     "name": "stdout",
     "output_type": "stream",
     "text": [
      "Accuracy: 73.533\n",
      "Precision: 71.713\n",
      "Recall: 67.389\n",
      "F1-score: 69.107\n",
      "              precision    recall  f1-score   support\n",
      "\n",
      "       anger       0.69      0.70      0.69       828\n",
      "        fear       0.74      0.74      0.74       741\n",
      "         joy       0.76      0.78      0.77      2019\n",
      "        love       0.73      0.52      0.60       484\n",
      "     sadness       0.74      0.79      0.76      1715\n",
      "    surprise       0.65      0.52      0.58       213\n",
      "\n",
      "    accuracy                           0.74      6000\n",
      "   macro avg       0.72      0.67      0.69      6000\n",
      "weighted avg       0.73      0.74      0.73      6000\n",
      "\n"
     ]
    }
   ],
   "source": [
    "# Random Forest Classifier\n",
    "rfc = RandomForestClassifier(n_estimators=1, random_state=0)\n",
    "\n",
    "rfc.fit(x_train, y_train)\n",
    "\n",
    "y_pred = rfc.predict(x_test)\n",
    "\n",
    "rfc_acc = accuracy_score(y_pred, y_test)\n",
    "rfc_prec = precision_score(y_test, y_pred, average='macro')\n",
    "rfc_recal = recall_score(y_test, y_pred, average='macro')\n",
    "rfc_cm = confusion_matrix(y_test,y_pred)\n",
    "rfc_f1 = f1_score(y_test, y_pred, average='macro')\n",
    "\n",
    "print('Accuracy:', '{0:.3f}'.format(rfc_acc*100))\n",
    "print('Precision:', '{0:.3f}'.format(rfc_prec*100))\n",
    "print('Recall:', '{0:.3f}'.format(rfc_recal*100))\n",
    "print('F1-score:', '{0:.3f}'.format(rfc_f1*100))\n",
    "print(classification_report(y_test,y_pred))"
   ]
  },
  {
   "cell_type": "code",
   "execution_count": 30,
   "id": "b233d5f9-db7b-4eca-8e45-674bc358807b",
   "metadata": {},
   "outputs": [
    {
     "data": {
      "text/plain": [
       "<sklearn.metrics._plot.confusion_matrix.ConfusionMatrixDisplay at 0x260db6bbed0>"
      ]
     },
     "execution_count": 30,
     "metadata": {},
     "output_type": "execute_result"
    },
    {
     "data": {
      "image/png": "[encoded data removed]",
      "text/plain": [
       "<Figure size 800x800 with 2 Axes>"
      ]
     },
     "metadata": {},
     "output_type": "display_data"
    }
   ],
   "source": [
    "# Confusion Matrix\n",
    "cm_display_rfc = ConfusionMatrixDisplay(rfc_cm, display_labels=rfc.classes_)\n",
    "fig, ax = plt.subplots(figsize=(8,8)) # adjust the size\n",
    "cm_display_rfc.plot(ax=ax,cmap='hot_r')"
   ]
  },
  {
   "cell_type": "code",
   "execution_count": 31,
   "id": "b0411934-af5e-4f89-8371-ee3f3707583f",
   "metadata": {},
   "outputs": [
    {
     "name": "stdout",
     "output_type": "stream",
     "text": [
      "Accuracy: 67.633\n",
      "Precision: 85.613\n",
      "Recall: 43.058\n",
      "F1-score: 43.576\n",
      "              precision    recall  f1-score   support\n",
      "\n",
      "       anger       0.95      0.34      0.50       828\n",
      "        fear       0.88      0.26      0.40       741\n",
      "         joy       0.63      0.97      0.77      2019\n",
      "        love       1.00      0.07      0.13       484\n",
      "     sadness       0.67      0.93      0.78      1715\n",
      "    surprise       1.00      0.02      0.04       213\n",
      "\n",
      "    accuracy                           0.68      6000\n",
      "   macro avg       0.86      0.43      0.44      6000\n",
      "weighted avg       0.76      0.68      0.61      6000\n",
      "\n"
     ]
    }
   ],
   "source": [
    "# Multinomial naive Bayes Classifier\n",
    "mnb = MultinomialNB()\n",
    "mnb.fit(x_train, y_train)\n",
    "\n",
    "y_pred = mnb.predict(x_test)\n",
    "\n",
    "mnb_acc = accuracy_score(y_pred, y_test)\n",
    "mnb_prec = precision_score(y_test, y_pred, average='macro')\n",
    "mnb_recal = recall_score(y_test, y_pred, average='macro')\n",
    "mnb_cm = confusion_matrix(y_test,y_pred)\n",
    "mnb_f1 = f1_score(y_test, y_pred, average='macro')\n",
    "\n",
    "print('Accuracy:', '{0:.3f}'.format(mnb_acc*100))\n",
    "print('Precision:', '{0:.3f}'.format(mnb_prec*100))\n",
    "print('Recall:', '{0:.3f}'.format(mnb_recal*100))\n",
    "print('F1-score:', '{0:.3f}'.format(mnb_f1*100))\n",
    "print(classification_report(y_test,y_pred))"
   ]
  },
  {
   "cell_type": "code",
   "execution_count": 32,
   "id": "e03b2bd4-a18f-4184-b38a-7ca26e3ad8d6",
   "metadata": {},
   "outputs": [
    {
     "data": {
      "text/plain": [
       "<sklearn.metrics._plot.confusion_matrix.ConfusionMatrixDisplay at 0x260d9a68c30>"
      ]
     },
     "execution_count": 32,
     "metadata": {},
     "output_type": "execute_result"
    },
    {
     "data": {
      "image/png": "[encoded data removed]",
      "text/plain": [
       "<Figure size 800x800 with 2 Axes>"
      ]
     },
     "metadata": {},
     "output_type": "display_data"
    }
   ],
   "source": [
    "# Confusion Matrix\n",
    "cm_display_mnb = ConfusionMatrixDisplay(mnb_cm, display_labels=mnb.classes_)\n",
    "fig, ax = plt.subplots(figsize=(8,8)) # adjust the size\n",
    "cm_display_mnb.plot(ax=ax,cmap='Reds')"
   ]
  },
  {
   "cell_type": "code",
   "execution_count": 33,
   "id": "e6a01860-3ff6-4a28-a8f4-910a5ca56f25",
   "metadata": {},
   "outputs": [
    {
     "name": "stdout",
     "output_type": "stream",
     "text": [
      "Accuracy: 86.883\n",
      "Precision: 83.225\n",
      "Recall: 84.176\n",
      "F1-score: 83.646\n",
      "              precision    recall  f1-score   support\n",
      "\n",
      "       anger       0.88      0.85      0.87       828\n",
      "        fear       0.82      0.86      0.84       741\n",
      "         joy       0.92      0.87      0.89      2019\n",
      "        love       0.75      0.82      0.78       484\n",
      "     sadness       0.88      0.92      0.90      1715\n",
      "    surprise       0.74      0.74      0.74       213\n",
      "\n",
      "    accuracy                           0.87      6000\n",
      "   macro avg       0.83      0.84      0.84      6000\n",
      "weighted avg       0.87      0.87      0.87      6000\n",
      "\n"
     ]
    }
   ],
   "source": [
    "# Decision Tree Classifier\n",
    "dt = tree.DecisionTreeClassifier()\n",
    "dt.fit(x_train, y_train)\n",
    "y_pred = dt.predict(x_test)\n",
    "\n",
    "\n",
    "dt_acc = accuracy_score(y_pred, y_test)\n",
    "dt_prec = precision_score(y_test, y_pred, average='macro')\n",
    "dt_recal = recall_score(y_test, y_pred, average='macro')\n",
    "dt_cm = confusion_matrix(y_test,y_pred)\n",
    "dt_f1 = f1_score(y_test, y_pred, average='macro')\n",
    "\n",
    "print('Accuracy:', '{0:.3f}'.format(dt_acc*100))\n",
    "print('Precision:', '{0:.3f}'.format(dt_prec*100))\n",
    "print('Recall:', '{0:.3f}'.format(dt_recal*100))\n",
    "print('F1-score:', '{0:.3f}'.format(dt_f1*100))\n",
    "print(classification_report(y_test,y_pred))"
   ]
  },
  {
   "cell_type": "code",
   "execution_count": 34,
   "id": "49fb00ae-d30f-4429-9677-bce09175d2d2",
   "metadata": {},
   "outputs": [
    {
     "data": {
      "text/plain": [
       "<sklearn.metrics._plot.confusion_matrix.ConfusionMatrixDisplay at 0x260d9a68fc0>"
      ]
     },
     "execution_count": 34,
     "metadata": {},
     "output_type": "execute_result"
    },
    {
     "data": {
      "image/png": "[encoded data removed]",
      "text/plain": [
       "<Figure size 800x800 with 2 Axes>"
      ]
     },
     "metadata": {},
     "output_type": "display_data"
    }
   ],
   "source": [
    "# Confusion Matrix\n",
    "cm_display_dt = ConfusionMatrixDisplay(dt_cm, display_labels=dt.classes_)\n",
    "fig, ax = plt.subplots(figsize=(8,8)) # adjust the size\n",
    "cm_display_dt.plot(ax=ax,cmap='Greens')"
   ]
  },
  {
   "cell_type": "code",
   "execution_count": 35,
   "id": "f94e86c0-dec4-4ee3-9cc3-76f922a97e3a",
   "metadata": {},
   "outputs": [],
   "source": [
    "# Summary Visualization\n",
    "\n",
    "def get_prec_recall_per_emotion(cm):\n",
    "    per_emotion_precision = []\n",
    "    for i in range(len(cm)):\n",
    "        count_per_emotion,accurate = 0,0\n",
    "        for j in range(len(cm)):\n",
    "            if i == j:\n",
    "                accurate = cm[j][i]\n",
    "            count_per_emotion += cm[j][i]\n",
    "        per_emotion_precision.append(round((accurate/count_per_emotion)*100,3))\n",
    "        \n",
    "    per_emotion_recall = []\n",
    "    for i in range(len(cm)):\n",
    "        count_per_emotion,accurate = 0,0\n",
    "        for j in range(len(cm)):\n",
    "            if i == j:\n",
    "                accurate = cm[i][j]\n",
    "            count_per_emotion += cm[i][j]\n",
    "        per_emotion_recall.append(round((accurate/count_per_emotion)*100,3))\n",
    "        \n",
    "    return per_emotion_precision, per_emotion_recall"
   ]
  },
  {
   "cell_type": "code",
   "execution_count": 36,
   "id": "314745d7-5331-4a76-98d2-9a8dad38bec5",
   "metadata": {},
   "outputs": [
    {
     "data": {
      "text/html": [
       "<div>\n",
       "<style scoped>\n",
       "    .dataframe tbody tr th:only-of-type {\n",
       "        vertical-align: middle;\n",
       "    }\n",
       "\n",
       "    .dataframe tbody tr th {\n",
       "        vertical-align: top;\n",
       "    }\n",
       "\n",
       "    .dataframe thead th {\n",
       "        text-align: right;\n",
       "    }\n",
       "</style>\n",
       "<table border=\"1\" class=\"dataframe\">\n",
       "  <thead>\n",
       "    <tr style=\"text-align: right;\">\n",
       "      <th></th>\n",
       "      <th>Support vector Machine</th>\n",
       "      <th>Logistic Regression</th>\n",
       "      <th>Random Forest</th>\n",
       "      <th>Naive Bayes</th>\n",
       "      <th>Decision Tree</th>\n",
       "    </tr>\n",
       "  </thead>\n",
       "  <tbody>\n",
       "    <tr>\n",
       "      <th>anger</th>\n",
       "      <td>90.641</td>\n",
       "      <td>90.691</td>\n",
       "      <td>68.653</td>\n",
       "      <td>94.966</td>\n",
       "      <td>88.428</td>\n",
       "    </tr>\n",
       "    <tr>\n",
       "      <th>fear</th>\n",
       "      <td>88.714</td>\n",
       "      <td>87.250</td>\n",
       "      <td>73.628</td>\n",
       "      <td>87.963</td>\n",
       "      <td>81.877</td>\n",
       "    </tr>\n",
       "    <tr>\n",
       "      <th>joy</th>\n",
       "      <td>88.842</td>\n",
       "      <td>82.456</td>\n",
       "      <td>76.239</td>\n",
       "      <td>63.378</td>\n",
       "      <td>91.562</td>\n",
       "    </tr>\n",
       "    <tr>\n",
       "      <th>love</th>\n",
       "      <td>84.491</td>\n",
       "      <td>86.517</td>\n",
       "      <td>72.886</td>\n",
       "      <td>100.000</td>\n",
       "      <td>75.285</td>\n",
       "    </tr>\n",
       "    <tr>\n",
       "      <th>sadness</th>\n",
       "      <td>91.488</td>\n",
       "      <td>88.403</td>\n",
       "      <td>73.576</td>\n",
       "      <td>67.374</td>\n",
       "      <td>88.364</td>\n",
       "    </tr>\n",
       "    <tr>\n",
       "      <th>surprise</th>\n",
       "      <td>87.117</td>\n",
       "      <td>92.437</td>\n",
       "      <td>65.294</td>\n",
       "      <td>100.000</td>\n",
       "      <td>73.832</td>\n",
       "    </tr>\n",
       "  </tbody>\n",
       "</table>\n",
       "</div>"
      ],
      "text/plain": [
       "          Support vector Machine  Logistic Regression  Random Forest  \\\n",
       "anger                     90.641               90.691         68.653   \n",
       "fear                      88.714               87.250         73.628   \n",
       "joy                       88.842               82.456         76.239   \n",
       "love                      84.491               86.517         72.886   \n",
       "sadness                   91.488               88.403         73.576   \n",
       "surprise                  87.117               92.437         65.294   \n",
       "\n",
       "          Naive Bayes  Decision Tree  \n",
       "anger          94.966         88.428  \n",
       "fear           87.963         81.877  \n",
       "joy            63.378         91.562  \n",
       "love          100.000         75.285  \n",
       "sadness        67.374         88.364  \n",
       "surprise      100.000         73.832  "
      ]
     },
     "execution_count": 36,
     "metadata": {},
     "output_type": "execute_result"
    }
   ],
   "source": [
    "# Precision of all models\n",
    "svm_per_prec,svm_per_recall = get_prec_recall_per_emotion(svm_cm)\n",
    "lr_per_prec,lr_per_recall = get_prec_recall_per_emotion(lr_cm)\n",
    "rfc_per_prec,rfc_per_recall = get_prec_recall_per_emotion(rfc_cm)\n",
    "mnb_per_prec,mnb_per_recall = get_prec_recall_per_emotion(mnb_cm)\n",
    "dt_per_prec,dt_per_recall = get_prec_recall_per_emotion(dt_cm)\n",
    "\n",
    "per_precision_list = pd.DataFrame({'Support vector Machine' : svm_per_prec,\n",
    "                                'Logistic Regression' : lr_per_prec,\n",
    "                                'Random Forest' : rfc_per_prec,\n",
    "                                'Naive Bayes' : mnb_per_prec,\n",
    "                                'Decision Tree' : dt_per_prec}, \n",
    "                                index=svm.classes_)\n",
    "per_precision_list"
   ]
  },
  {
   "cell_type": "code",
   "execution_count": 37,
   "id": "0965b541-2f59-4a21-81ad-b48d23251240",
   "metadata": {},
   "outputs": [
    {
     "data": {
      "text/html": [
       "<div>\n",
       "<style scoped>\n",
       "    .dataframe tbody tr th:only-of-type {\n",
       "        vertical-align: middle;\n",
       "    }\n",
       "\n",
       "    .dataframe tbody tr th {\n",
       "        vertical-align: top;\n",
       "    }\n",
       "\n",
       "    .dataframe thead th {\n",
       "        text-align: right;\n",
       "    }\n",
       "</style>\n",
       "<table border=\"1\" class=\"dataframe\">\n",
       "  <thead>\n",
       "    <tr style=\"text-align: right;\">\n",
       "      <th></th>\n",
       "      <th>Support vector Machine</th>\n",
       "      <th>Logistic Regression</th>\n",
       "      <th>Random Forest</th>\n",
       "      <th>Naive Bayes</th>\n",
       "      <th>Decision Tree</th>\n",
       "    </tr>\n",
       "  </thead>\n",
       "  <tbody>\n",
       "    <tr>\n",
       "      <th>anger</th>\n",
       "      <td>85.386</td>\n",
       "      <td>77.657</td>\n",
       "      <td>69.565</td>\n",
       "      <td>34.179</td>\n",
       "      <td>84.903</td>\n",
       "    </tr>\n",
       "    <tr>\n",
       "      <th>fear</th>\n",
       "      <td>83.806</td>\n",
       "      <td>76.653</td>\n",
       "      <td>74.224</td>\n",
       "      <td>25.641</td>\n",
       "      <td>85.965</td>\n",
       "    </tr>\n",
       "    <tr>\n",
       "      <th>joy</th>\n",
       "      <td>94.651</td>\n",
       "      <td>95.443</td>\n",
       "      <td>77.712</td>\n",
       "      <td>97.028</td>\n",
       "      <td>86.528</td>\n",
       "    </tr>\n",
       "    <tr>\n",
       "      <th>love</th>\n",
       "      <td>75.413</td>\n",
       "      <td>63.636</td>\n",
       "      <td>51.653</td>\n",
       "      <td>7.025</td>\n",
       "      <td>81.818</td>\n",
       "    </tr>\n",
       "    <tr>\n",
       "      <th>sadness</th>\n",
       "      <td>94.636</td>\n",
       "      <td>94.227</td>\n",
       "      <td>79.067</td>\n",
       "      <td>92.595</td>\n",
       "      <td>91.662</td>\n",
       "    </tr>\n",
       "    <tr>\n",
       "      <th>surprise</th>\n",
       "      <td>66.667</td>\n",
       "      <td>51.643</td>\n",
       "      <td>52.113</td>\n",
       "      <td>1.878</td>\n",
       "      <td>74.178</td>\n",
       "    </tr>\n",
       "  </tbody>\n",
       "</table>\n",
       "</div>"
      ],
      "text/plain": [
       "          Support vector Machine  Logistic Regression  Random Forest  \\\n",
       "anger                     85.386               77.657         69.565   \n",
       "fear                      83.806               76.653         74.224   \n",
       "joy                       94.651               95.443         77.712   \n",
       "love                      75.413               63.636         51.653   \n",
       "sadness                   94.636               94.227         79.067   \n",
       "surprise                  66.667               51.643         52.113   \n",
       "\n",
       "          Naive Bayes  Decision Tree  \n",
       "anger          34.179         84.903  \n",
       "fear           25.641         85.965  \n",
       "joy            97.028         86.528  \n",
       "love            7.025         81.818  \n",
       "sadness        92.595         91.662  \n",
       "surprise        1.878         74.178  "
      ]
     },
     "execution_count": 37,
     "metadata": {},
     "output_type": "execute_result"
    }
   ],
   "source": [
    "# Recall of all models\n",
    "per_recall_list = pd.DataFrame({'Support vector Machine' : svm_per_recall,\n",
    "                                'Logistic Regression' : lr_per_recall,\n",
    "                                'Random Forest' : rfc_per_recall,\n",
    "                                'Naive Bayes' : mnb_per_recall,\n",
    "                                'Decision Tree' : dt_per_recall}, \n",
    "                                index=svm.classes_)\n",
    "per_recall_list"
   ]
  },
  {
   "cell_type": "code",
   "execution_count": 38,
   "id": "b9cf58d4-c331-49d7-9ce2-d1e3767ab52c",
   "metadata": {},
   "outputs": [
    {
     "data": {
      "image/png": "[encoded data removed]",
      "text/plain": [
       "<Figure size 1000x500 with 1 Axes>"
      ]
     },
     "metadata": {},
     "output_type": "display_data"
    }
   ],
   "source": [
    "# Accuracy Visualization of all models\n",
    "\n",
    "algorithms = ['SVM','Logistic Regression','Random Forest','Naive Bayes','Decision Tree']\n",
    "algorithm_acc = [svm_acc*100, lr_acc*100, rfc_acc*100, mnb_acc*100, dt_acc*100]\n",
    "\n",
    "algorithms = ['Decision Tree','Naive Bayes','Random Forest','Logistic Regression','SVM']\n",
    "algorithm_acc = [dt_acc*100, mnb_acc*100, rfc_acc*100, lr_acc*100, svm_acc*100]\n",
    "# Figure Size\n",
    "fig = plt.figure(figsize =(10, 5))\n",
    "bar_list = plt.barh(algorithms, algorithm_acc,height = 0.6,color='black')\n",
    "# bar_list[5].set_color('#7CAADE')\n",
    "bar_list[4].set_color('#E396B6')\n",
    "bar_list[3].set_color('#FFDF80')\n",
    "bar_list[2].set_color('#B096E3')\n",
    "bar_list[1].set_color('#FFB49C')\n",
    "bar_list[0].set_color('#B9E396')\n",
    "plt.xlabel('Accuracy',color='black')\n",
    "plt.ylabel('Models',color='black')\n",
    "plt.title('Accuracy for 6 Models')\n",
    "plt.xlim(0,110)\n",
    "\n",
    "for i, v in enumerate(algorithm_acc):\n",
    "    plt.text(v + 0.5, i - 0.1, str(round(v,2))+'%', color='black',fontsize=10)\n",
    "    \n",
    "plt.show()"
   ]
  },
  {
   "cell_type": "code",
   "execution_count": 40,
   "id": "fb8bfcbb-1705-493a-954b-a1750e593338",
   "metadata": {},
   "outputs": [
    {
     "name": "stdin",
     "output_type": "stream",
     "text": [
      "What's in your mind:  :), i suppose, I am happy\n"
     ]
    },
    {
     "name": "stdout",
     "output_type": "stream",
     "text": [
      "Emotion using SVM: ['joy']\n",
      "Emotion using Logistic Regression: ['joy']\n",
      "Emotion using Decision Tree: ['joy']\n",
      "Emotion using Naive Bayes: ['joy']\n",
      "Emotion using Random Forest: ['joy']\n"
     ]
    },
    {
     "name": "stdin",
     "output_type": "stream",
     "text": [
      "What's in your mind:  nothing\n"
     ]
    }
   ],
   "source": [
    "# Predicton\n",
    "while True:\n",
    "    input_str = input(\"What's in your mind: \")\n",
    "    if input_str == 'nothing':\n",
    "        break\n",
    "        \n",
    "    processed_text = tfidf_transformer_xtest.fit_transform(countVectorizer1.transform([input_str]))\n",
    "    print('Emotion using SVM: ',end = '')\n",
    "    print(svm.predict(processed_text))\n",
    "    print('Emotion using Logistic Regression: ',end = '')\n",
    "    print(logisticRegr.predict(processed_text))\n",
    "    print('Emotion using Decision Tree: ',end = '')\n",
    "    print(dt.predict(processed_text))\n",
    "    print('Emotion using Naive Bayes: ',end = '')\n",
    "    print(mnb.predict(processed_text))\n",
    "    print('Emotion using Random Forest: ',end = '')\n",
    "    print(rfc.predict(processed_text))"
   ]
  },
  {
   "cell_type": "code",
   "execution_count": null,
   "id": "04b6a6d6-9fd8-47ca-ad23-20b80401e76e",
   "metadata": {},
   "outputs": [],
   "source": []
  }
 ],
 "metadata": {
  "kernelspec": {
   "display_name": "Python 3 (ipykernel)",
   "language": "python",
   "name": "python3"
  },
  "language_info": {
   "codemirror_mode": {
    "name": "ipython",
    "version": 3
   },
   "file_extension": ".py",
   "mimetype": "text/x-python",
   "name": "python",
   "nbconvert_exporter": "python",
   "pygments_lexer": "ipython3",
   "version": "3.13.5"
  }
 },
 "nbformat": 4,
 "nbformat_minor": 5
}
